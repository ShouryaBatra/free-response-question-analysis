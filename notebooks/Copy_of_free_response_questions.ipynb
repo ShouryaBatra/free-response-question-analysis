{
  "nbformat": 4,
  "nbformat_minor": 0,
  "metadata": {
    "colab": {
      "provenance": []
    },
    "kernelspec": {
      "name": "python3",
      "display_name": "Python 3"
    },
    "language_info": {
      "name": "python"
    }
  },
  "cells": [
    {
      "cell_type": "code",
      "execution_count": null,
      "metadata": {
        "id": "jNe0BGHGJ35z"
      },
      "outputs": [],
      "source": [
        "# clone repo\n",
        "\n",
        "!git clone https://github.com/ShouryaBatra/free-response-question-analysis.git\n"
      ]
    },
    {
      "cell_type": "code",
      "source": [
        "# install dependencies\n",
        "!pip install -r free-response-question-analysis/requirements.txt"
      ],
      "metadata": {
        "id": "3U9jUE3YKSF5"
      },
      "execution_count": null,
      "outputs": []
    },
    {
      "cell_type": "code",
      "source": [
        "# run script\n",
        "!cd free-response-question-analysis/ && python3 scripts/classify_responses.py \\\n",
        "--in inputData/data.csv \\\n",
        "--out classified_responses_results.json \\\n",
        "--model claude-3-7-sonnet-20250219 \\\n",
        "--api-key \"YOUR_KEY_HERE\""
      ],
      "metadata": {
        "id": "AFqBq7nAKXAu"
      },
      "execution_count": null,
      "outputs": []
    },
    {
      "cell_type": "code",
      "source": [
        "# get graphical results\n",
        "!cd free-response-question-analysis/ && python3 scripts/visualize_summary.py \\\n",
        "--in classified_responses_results.json \\\n",
        "--out-dir figures \\\n",
        "--prefix survey"
      ],
      "metadata": {
        "id": "4rxZWP7hYTm6"
      },
      "execution_count": null,
      "outputs": []
    }
  ]
}